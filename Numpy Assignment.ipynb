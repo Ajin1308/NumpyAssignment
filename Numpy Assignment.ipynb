{
 "cells": [
  {
   "cell_type": "code",
   "execution_count": null,
   "id": "9b8dc955",
   "metadata": {},
   "outputs": [],
   "source": [
    "1. Create a null vector of size 10 but the fifth value which is 1."
   ]
  },
  {
   "cell_type": "code",
   "execution_count": 2,
   "id": "07f13d8c",
   "metadata": {},
   "outputs": [
    {
     "data": {
      "text/plain": [
       "array([0., 0., 0., 0., 1., 0., 0., 0., 0., 0.])"
      ]
     },
     "execution_count": 2,
     "metadata": {},
     "output_type": "execute_result"
    }
   ],
   "source": [
    "import numpy as np\n",
    "null_vector = np.zeros(10)\n",
    "null_vector[4] = 1\n",
    "null_vector"
   ]
  },
  {
   "cell_type": "code",
   "execution_count": null,
   "id": "c9491b02",
   "metadata": {},
   "outputs": [],
   "source": [
    "2. Create a vector with values ranging from 10 to 49."
   ]
  },
  {
   "cell_type": "code",
   "execution_count": 3,
   "id": "01b3c08c",
   "metadata": {},
   "outputs": [
    {
     "data": {
      "text/plain": [
       "array([10, 11, 12, 13, 14, 15, 16, 17, 18, 19, 20, 21, 22, 23, 24, 25, 26,\n",
       "       27, 28, 29, 30, 31, 32, 33, 34, 35, 36, 37, 38, 39, 40, 41, 42, 43,\n",
       "       44, 45, 46, 47, 48, 49])"
      ]
     },
     "execution_count": 3,
     "metadata": {},
     "output_type": "execute_result"
    }
   ],
   "source": [
    "vector = np.arange(10,50)\n",
    "vector"
   ]
  },
  {
   "cell_type": "code",
   "execution_count": null,
   "id": "7e5903c3",
   "metadata": {},
   "outputs": [],
   "source": [
    "3. Create a 3x3 matrix with values ranging from 0 to 8."
   ]
  },
  {
   "cell_type": "code",
   "execution_count": 5,
   "id": "8937d76c",
   "metadata": {},
   "outputs": [
    {
     "data": {
      "text/plain": [
       "array([[3, 0, 2],\n",
       "       [4, 0, 0],\n",
       "       [6, 2, 4]])"
      ]
     },
     "execution_count": 5,
     "metadata": {},
     "output_type": "execute_result"
    }
   ],
   "source": [
    "mat = np.random.randint(0,9,(3,3))\n",
    "mat"
   ]
  },
  {
   "cell_type": "code",
   "execution_count": null,
   "id": "92233628",
   "metadata": {},
   "outputs": [],
   "source": [
    "4. Find indices of non-zero elements from [1,2,0,0,4,0]."
   ]
  },
  {
   "cell_type": "code",
   "execution_count": 6,
   "id": "5b5e4bbd",
   "metadata": {},
   "outputs": [
    {
     "data": {
      "text/plain": [
       "(array([0, 1, 4], dtype=int64),)"
      ]
     },
     "execution_count": 6,
     "metadata": {},
     "output_type": "execute_result"
    }
   ],
   "source": [
    "arr = np.array([1,2,0,0,4,0])\n",
    "index = np.nonzero(arr)\n",
    "index"
   ]
  },
  {
   "cell_type": "code",
   "execution_count": null,
   "id": "061350bc",
   "metadata": {},
   "outputs": [],
   "source": [
    "5. Create a 10x10 array with random values and find the minimum and maximum values."
   ]
  },
  {
   "cell_type": "code",
   "execution_count": 34,
   "id": "d42cbfde",
   "metadata": {},
   "outputs": [
    {
     "name": "stdout",
     "output_type": "stream",
     "text": [
      "[[67 84  5 90  8 83 63 48 85 60]\n",
      " [49 74 27 13  9 61 15 93 98 59]\n",
      " [18 14 93 56  9 51 68 53 53 71]\n",
      " [59 42 26 66  9 81 15 92 91 63]\n",
      " [86 31 20 45 21 72 92 28 95 47]\n",
      " [10 64  7 45  2 38 71 95 36 89]\n",
      " [60 91 68 37 66 82 38 54 86 39]\n",
      " [46  6 95 32 73 98  7  9 98 42]\n",
      " [19 59 48  9 16 78 55 55 20 98]\n",
      " [87 98 24  6 28  5 66 19 99 75]]\n",
      "Minimum value 2\n",
      "Maximum value 99\n"
     ]
    }
   ],
   "source": [
    "arr1 = np.random.seed(8)\n",
    "arr1 = np.random.randint(0,100,(10,10))\n",
    "print(arr1)\n",
    "print(\"Minimum value\",arr1.min())\n",
    "print(\"Maximum value\",arr1.max())"
   ]
  },
  {
   "cell_type": "code",
   "execution_count": null,
   "id": "fe46f64f",
   "metadata": {},
   "outputs": [],
   "source": [
    "6. Create a random vector of size 30 and find the mean value."
   ]
  },
  {
   "cell_type": "code",
   "execution_count": 40,
   "id": "fa23cfcb",
   "metadata": {},
   "outputs": [
    {
     "name": "stdout",
     "output_type": "stream",
     "text": [
      "[30 31 32 33 34 35 36 37 38 39 40 41 42 43 44 45 46 47 48 49 50 51 52 53]\n"
     ]
    },
    {
     "data": {
      "text/plain": [
       "41.5"
      ]
     },
     "execution_count": 40,
     "metadata": {},
     "output_type": "execute_result"
    }
   ],
   "source": [
    "rand_vec = np.arange(30,54)\n",
    "print(rand_vec)\n",
    "rand_vec.mean()"
   ]
  },
  {
   "cell_type": "code",
   "execution_count": null,
   "id": "731453f0",
   "metadata": {},
   "outputs": [],
   "source": []
  }
 ],
 "metadata": {
  "kernelspec": {
   "display_name": "Python 3 (ipykernel)",
   "language": "python",
   "name": "python3"
  },
  "language_info": {
   "codemirror_mode": {
    "name": "ipython",
    "version": 3
   },
   "file_extension": ".py",
   "mimetype": "text/x-python",
   "name": "python",
   "nbconvert_exporter": "python",
   "pygments_lexer": "ipython3",
   "version": "3.9.12"
  }
 },
 "nbformat": 4,
 "nbformat_minor": 5
}
